{
 "cells": [
  {
   "cell_type": "code",
   "execution_count": 1,
   "id": "69e0e938",
   "metadata": {},
   "outputs": [],
   "source": [
    "import numpy as np\n",
    "import matplotlib.pyplot as plt\n",
    "import pandas as pd"
   ]
  },
  {
   "cell_type": "code",
   "execution_count": 2,
   "id": "c22d180e",
   "metadata": {},
   "outputs": [],
   "source": [
    "import yfinance as yf"
   ]
  },
  {
   "cell_type": "code",
   "execution_count": 71,
   "id": "622ade8f",
   "metadata": {},
   "outputs": [],
   "source": [
    "import statsmodels.api as sm"
   ]
  },
  {
   "cell_type": "code",
   "execution_count": 3,
   "id": "80042e79",
   "metadata": {},
   "outputs": [],
   "source": [
    "company_ticker = [\"MARUTI.NS\", \"ULTRACEMCO.NS\", \"HDFCBANK.NS\", \"ASIANPAINT.NS\", \"WHIRLPOOL.NS\", \"HINDUNILVR.NS\", \"LT.NS\", \"NESTLEIND.NS\", \"TCS.NS\", \"BEL.NS\", \"ZEEL.NS\", \"JSWSTEEL.NS\", \"RELIANCE.NS\", \"ADANIENT.NS\", \"BHARTIARTL.NS\", \"AXISBANK.NS\", \"DMART.NS\", \"WIPRO.NS\", \"GODREJCP.NS\", \"TATAMOTORS.NS\"]\n",
    "company_name = [\"Maruti Suzuki\", \"UltraTech Cement\", \"HDFC Bank\", \"Asian Paints\", \"Whirlpool\", \"Hindustan Unilever\", \"Larsen & Toubro\", \"Nestlé\", \"TCS\", \"Bharat Electronics\", \"Zee Entertainment\", \"JSW Steel Limited\", \"Reliance\", \"Adani Enterprises\", \"Bharti Airtel\", \"Axis Bank\", \"Avenue Supermarts\", \"Wipro\", \"Godrej\", \"Tata Motors\"]"
   ]
  },
  {
   "cell_type": "code",
   "execution_count": 4,
   "id": "2e3ca7ce",
   "metadata": {},
   "outputs": [],
   "source": [
    "dat = pd.DataFrame(yf.Ticker(company_ticker[0]).history(period=\"5y\")[\"Close\"])\n",
    "dat.columns = [company_name[0]]"
   ]
  },
  {
   "cell_type": "code",
   "execution_count": 38,
   "id": "8b4a39ce",
   "metadata": {},
   "outputs": [],
   "source": [
    "for i in range(1, len(company_name)):\n",
    "    dat[company_name[i]] = yf.Ticker(company_ticker[i]).history(period=\"5y\")[\"Close\"]"
   ]
  },
  {
   "cell_type": "code",
   "execution_count": 39,
   "id": "7324aeed",
   "metadata": {},
   "outputs": [],
   "source": [
    "fourf = pd.read_csv(\"./Downloads/FourFactors.csv\")"
   ]
  },
  {
   "cell_type": "code",
   "execution_count": 40,
   "id": "c4554b3a",
   "metadata": {},
   "outputs": [],
   "source": [
    "fourf['Date'] = pd.to_datetime(fourf['Date'])  \n",
    "fourf = fourf.set_index(['Date'])"
   ]
  },
  {
   "cell_type": "code",
   "execution_count": 41,
   "id": "ed2f27de",
   "metadata": {},
   "outputs": [],
   "source": [
    "ret = dat.pct_change()[1:]"
   ]
  },
  {
   "cell_type": "code",
   "execution_count": 42,
   "id": "ee6dfe7c",
   "metadata": {},
   "outputs": [],
   "source": [
    "fourf = fourf.loc[ret.index.intersection(fourf.index)]\n",
    "ret = ret.loc[ret.index.intersection(fourf.index)]"
   ]
  },
  {
   "cell_type": "code",
   "execution_count": 67,
   "id": "c170a9a8",
   "metadata": {},
   "outputs": [],
   "source": [
    "fourf = fourf.fillna(method='bfill')\n",
    "ret = ret.fillna(method='bfill')\n",
    "ret[ret > 1e308] = 0"
   ]
  },
  {
   "cell_type": "code",
   "execution_count": 68,
   "id": "15dbd9c0",
   "metadata": {},
   "outputs": [],
   "source": [
    "fourf_train = fourf.loc[ret.index < ret.index[int(len(ret.index)*0.6)]]\n",
    "fourf_test = fourf.loc[ret.index >= ret.index[int(len(ret.index)*0.6)]]\n",
    "ret_train = ret.loc[ret.index < ret.index[int(len(ret.index)*0.6)]]\n",
    "ret_test = ret.loc[ret.index >= ret.index[int(len(ret.index)*0.6)]]"
   ]
  },
  {
   "cell_type": "code",
   "execution_count": 79,
   "id": "f9fb7bdc",
   "metadata": {},
   "outputs": [],
   "source": [
    "def solve_robust(ret_train, fourf_train, verbose=True):\n",
    "    p = ret_train.shape[0]\n",
    "    m = fourf_train.shape[1]\n",
    "    n = ret_train.shape[1]\n",
    "    \n",
    "    from sklearn.linear_model import LinearRegression\n",
    "    mean0 = []\n",
    "    V0 = []\n",
    "    errors = []\n",
    "    for i in range(ret_train.shape[1]):\n",
    "        reg = LinearRegression().fit(fourf_train, ret_train.iloc[:,i])\n",
    "        V0.append(reg.coef_)\n",
    "        mean0.append(reg.intercept_)\n",
    "        errors.append(ret_train.iloc[:,i] - reg.predict(fourf_train))\n",
    "    mean0 = np.array(mean0)\n",
    "    V0 = np.array(V0).T\n",
    "    errors = np.array(errors).T\n",
    "    w = 0.95\n",
    "    F = np.cov(fourf_train.T)\n",
    "    B = fourf_train.T.values\n",
    "    B1 = B @ np.ones(B.shape[1])\n",
    "    G = B @ B.T - 1/p * np.outer(B1,B1)\n",
    "    G_root = np.linalg.cholesky(G)\n",
    "    H = np.linalg.inv(G_root)@ F @ G_root\n",
    "    A = sm.add_constant(B.T)\n",
    "    from scipy.stats import f\n",
    "    s2 = np.sum(np.square(errors),axis=0) / (p - m - 1)\n",
    "    gam = np.sqrt((m+1) * (np.linalg.inv(A.T @ A))[0][0] * f.ppf(w,m+1,p-m-1) * s2)\n",
    "    rho = np.sqrt((m+1) * f.ppf(w,m+1,p-m-1) * s2)\n",
    "    lam, Q = np.linalg.eig(H)\n",
    "    lam_max = lam.max()\n",
    "    H_root = np.linalg.cholesky(H)\n",
    "    wM = Q.T @ H_root @ G_root @ V0\n",
    "    D_bar = np.diag(s2)\n",
    "    D_root = np.linalg.cholesky(D_bar)\n",
    "    \n",
    "    #define the variables\n",
    "    import cvxpy as cp\n",
    "    nu = cp.Variable(1)\n",
    "    delt = cp.Variable(1)\n",
    "    phi = cp.Variable(n)\n",
    "    psi = cp.Variable(n)\n",
    "    tau = cp.Variable(1)\n",
    "    t = cp.Variable(m)\n",
    "    sig = cp.Variable(1)\n",
    "    #define the constraints\n",
    "    cons = [\n",
    "    cp.SOC(1 + delt, cp.hstack([2 * D_root @ phi, 1 - delt])),\n",
    "    np.ones(n).T @ phi == 1,\n",
    "    sig >= 0,\n",
    "    tau >= 0,\n",
    "    tau + np.ones(m).T @ t <= nu,\n",
    "    cp.SOC(delt + tau, cp.hstack([2 * rho.T @ psi, sig - tau])),\n",
    "    sig <= 1 / lam_max]\n",
    "    cons += [psi[i] >= phi[i] for i in range(n)] + [psi[i] >= -phi[i] for i in range(n)] + [t[i] >= 0 for i in range(m)] + [cp.SOC(1 - sig * lam[i] + t[i], cp.hstack([2 * (wM @ phi)[i], 1 - sig*lam[i] - t[i]])) for i in range(m)]\n",
    "    #Results\n",
    "    prob = cp.Problem(cp.Minimize(nu + delt), cons)\n",
    "    prob.solve(solver='ECOS', abstol=1e-5)\n",
    "    \n",
    "    if verbose:\n",
    "        print(\"Problem Status: \", prob.status)\n",
    "        print(\"Optimal Value: \", prob.value)\n",
    "        print(\"Optimal Portfolio: \", phi.value)\n",
    "  "
   ]
  },
  {
   "cell_type": "code",
   "execution_count": 81,
   "id": "cf58e056",
   "metadata": {
    "scrolled": false
   },
   "outputs": [
    {
     "name": "stdout",
     "output_type": "stream",
     "text": [
      "Problem Status:  optimal\n",
      "Optimal Value:  0.1437609348578575\n",
      "Optimal Portfolio:  [2.57892525e-13 2.30119279e-08 2.36365165e-07 7.16920948e-08\n",
      " 2.76017259e-08 4.84577298e-08 4.26738810e-02 5.66214869e-08\n",
      " 1.78375076e-08 1.02878218e-08 3.01604272e-09 5.57151860e-09\n",
      " 3.85252948e-09 2.84879363e-09 6.30327127e-09 3.97165253e-09\n",
      " 1.53144279e-08 9.57325555e-01 2.64461131e-08 4.43040210e-09]\n"
     ]
    }
   ],
   "source": [
    "solve_robust(ret_train,fourf_train)"
   ]
  },
  {
   "cell_type": "code",
   "execution_count": null,
   "id": "3f3be9f5",
   "metadata": {},
   "outputs": [],
   "source": []
  },
  {
   "cell_type": "code",
   "execution_count": null,
   "id": "2d5e489a",
   "metadata": {},
   "outputs": [],
   "source": []
  },
  {
   "cell_type": "code",
   "execution_count": null,
   "id": "da56e598",
   "metadata": {},
   "outputs": [],
   "source": []
  },
  {
   "cell_type": "code",
   "execution_count": null,
   "id": "20123a8a",
   "metadata": {},
   "outputs": [],
   "source": []
  }
 ],
 "metadata": {
  "kernelspec": {
   "display_name": "Python 3 (ipykernel)",
   "language": "python",
   "name": "python3"
  },
  "language_info": {
   "codemirror_mode": {
    "name": "ipython",
    "version": 3
   },
   "file_extension": ".py",
   "mimetype": "text/x-python",
   "name": "python",
   "nbconvert_exporter": "python",
   "pygments_lexer": "ipython3",
   "version": "3.9.15"
  }
 },
 "nbformat": 4,
 "nbformat_minor": 5
}
